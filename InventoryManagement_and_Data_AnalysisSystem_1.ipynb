{
  "nbformat": 4,
  "nbformat_minor": 0,
  "metadata": {
    "colab": {
      "provenance": []
    },
    "kernelspec": {
      "name": "python3",
      "display_name": "Python 3"
    },
    "language_info": {
      "name": "python"
    }
  },
  "cells": [
    {
      "cell_type": "code",
      "execution_count": null,
      "metadata": {
        "id": "0RR1b5T4zK3e"
      },
      "outputs": [],
      "source": [
        "#Object-Oriented Design"
      ]
    },
    {
      "cell_type": "code",
      "source": [
        "import pandas as pd\n",
        "\n",
        "class Product:\n",
        "    def __init__(self, product_id, name, price, quantity):\n",
        "        self.product_id = product_id\n",
        "        self.name = name\n",
        "        self.price = price\n",
        "        self.quantity = quantity\n",
        "\n",
        "    def update_quantity(self, quantity):\n",
        "        self.quantity += quantity\n",
        "\n",
        "class Inventory:\n",
        "    def __init__(self):\n",
        "        self.products = {}\n",
        "\n",
        "    def add_product(self, product):\n",
        "        self.products[product.product_id] = product\n",
        "\n",
        "    def update_product(self, product_id, quantity):\n",
        "        if product_id in self.products:\n",
        "            self.products[product_id].update_quantity(quantity)\n",
        "\n",
        "    def delete_product(self, product_id):\n",
        "        if product_id in self.products:\n",
        "            del self.products[product_id]\n",
        "\n",
        "    def search_product(self, product_id):\n",
        "        return self.products.get(product_id, None)\n",
        "\n",
        "class Sales:\n",
        "    def __init__(self):\n",
        "        self.sales_data = []\n",
        "\n",
        "    def record_sale(self, product, quantity):\n",
        "        total_cost = product.price * quantity\n",
        "        sale_record = {\n",
        "            'Product ID': product.product_id,\n",
        "            'Name': product.name,\n",
        "            'Quantity Sold': quantity,\n",
        "            'Price': product.price,\n",
        "            'Total Cost': total_cost\n",
        "        }\n",
        "        self.sales_data.append(sale_record)\n",
        "\n",
        "class Store:\n",
        "    def __init__(self):\n",
        "        self.inventory = Inventory()\n",
        "        self.sales = Sales()\n",
        "\n",
        "    def add_product(self, product):\n",
        "        self.inventory.add_product(product)\n",
        "\n",
        "    def process_sale(self, product_id, quantity):\n",
        "        product = self.inventory.search_product(product_id)\n",
        "        if product and product.quantity >= quantity:\n",
        "            product.update_quantity(-quantity)\n",
        "            self.sales.record_sale(product, quantity)\n",
        "            return True\n",
        "        return False"
      ],
      "metadata": {
        "id": "gGWpnNyfzXqf"
      },
      "execution_count": 1,
      "outputs": []
    },
    {
      "cell_type": "code",
      "source": [
        "#File Handling"
      ],
      "metadata": {
        "id": "griA0YERzpEE"
      },
      "execution_count": null,
      "outputs": []
    },
    {
      "cell_type": "code",
      "source": [
        "import csv\n",
        "import os\n",
        "\n",
        "def backup_inventory(func):\n",
        "    def wrapper(*args, **kwargs):\n",
        "        result = func(*args, **kwargs)\n",
        "        # Backup inventory to a CSV file\n",
        "        with open('inventory_backup.csv', mode='w', newline='') as file:\n",
        "            writer = csv.writer(file)\n",
        "            writer.writerow(['Product ID', 'Name', 'Price', 'Quantity'])\n",
        "            for product in args[0].products.values():\n",
        "                writer.writerow([product.product_id, product.name, product.price, product.quantity])\n",
        "        return result\n",
        "    return wrapper\n",
        "\n",
        "class Inventory:\n",
        "    # Existing methods...\n",
        "\n",
        "    @backup_inventory\n",
        "    def add_product(self, product):\n",
        "        self.products[product.product_id] = product\n",
        "\n",
        "    def load_products_from_csv(self, filename='products.csv'):\n",
        "        with open(filename, mode='r') as file:\n",
        "            reader = csv.DictReader(file)\n",
        "            for row in reader:\n",
        "                product = Product(row['Product ID'], row['Name'], float(row['Price']), int(row['Quantity']))\n",
        "                self.add_product(product)\n",
        "\n",
        "    def save_products_to_csv(self, filename='products.csv'):\n",
        "        with open(filename, mode='w', newline='') as file:\n",
        "            writer = csv.writer(file)\n",
        "            writer.writerow(['Product ID', 'Name', 'Price', 'Quantity'])\n",
        "            for product in self.products.values():\n",
        "                writer.writerow([product.product_id, product.name, product.price, product.quantity])"
      ],
      "metadata": {
        "id": "51pQSPEGzpu9"
      },
      "execution_count": 3,
      "outputs": []
    },
    {
      "cell_type": "code",
      "source": [
        "# Sales Processing"
      ],
      "metadata": {
        "id": "q7XWI7jKz2jG"
      },
      "execution_count": null,
      "outputs": []
    },
    {
      "cell_type": "code",
      "source": [
        "class Sales:\n",
        "    # Existing methods...\n",
        "\n",
        "    def save_sales_to_csv(self, filename='sales.csv'):\n",
        "        with open(filename, mode='w', newline='') as file:\n",
        "            writer = csv.DictWriter(file, fieldnames=['Product ID', 'Name', 'Quantity Sold', 'Price', 'Total Cost'])\n",
        "            writer.writeheader()\n",
        "            writer.writerows(self.sales_data)\n",
        "\n",
        "    def load_sales_from_csv(self, filename='sales.csv'):\n",
        "        with open(filename, mode='r') as file:\n",
        "            reader = csv.DictReader(file)\n",
        "            for row in reader:\n",
        "                self.sales_data.append(row)"
      ],
      "metadata": {
        "id": "nL8Yo7p_z3Me"
      },
      "execution_count": 4,
      "outputs": []
    },
    {
      "cell_type": "code",
      "source": [
        "#Data Analysis Using Pandas"
      ],
      "metadata": {
        "id": "4UPE5nFOz7q-"
      },
      "execution_count": null,
      "outputs": []
    },
    {
      "cell_type": "code",
      "source": [
        "def analyze_sales_data(products_file='products.csv', sales_file='sales.csv'):\n",
        "    products_df = pd.read_csv(products_file)\n",
        "    sales_df = pd.read_csv(sales_file)\n",
        "\n",
        "    # Total sales for each product\n",
        "    total_sales = sales_df.groupby('Product ID')['Total Cost'].sum()\n",
        "\n",
        "    # Daily sales trends\n",
        "    sales_df['Date'] = pd.to_datetime(sales_df['Date'])\n",
        "    daily_sales = sales_df.groupby(sales_df['Date'].dt.date)['Total Cost'].sum()\n",
        "\n",
        "    # Find the product with the highest sales revenue\n",
        "    highest_sales_product = sales_df.groupby('Product ID')['Total Cost'].sum().idxmax()\n",
        "\n",
        "    return total_sales, daily_sales, highest_sales_product"
      ],
      "metadata": {
        "id": "kY2wzRecz8En"
      },
      "execution_count": 5,
      "outputs": []
    },
    {
      "cell_type": "code",
      "source": [
        "#NumPy-Based Calculations"
      ],
      "metadata": {
        "id": "Jejq0OLFz_6_"
      },
      "execution_count": null,
      "outputs": []
    },
    {
      "cell_type": "code",
      "source": [
        "import numpy as np\n",
        "\n",
        "def calculate_sales_statistics(sales_df):\n",
        "    total_revenue = np.sum(sales_df['Total Cost'])\n",
        "    average_sales_per_day = np.mean(sales_df.groupby(sales_df['Date'].dt.date)['Total Cost'].sum())\n",
        "    total_stock_value = np.sum(sales_df['Quantity Sold'] * sales_df['Price'])\n",
        "\n",
        "    return total_revenue, average_sales_per_day, total_stock_value"
      ],
      "metadata": {
        "id": "ERR0xkk70Abm"
      },
      "execution_count": 6,
      "outputs": []
    },
    {
      "cell_type": "code",
      "source": [
        "#Testing and Decorators"
      ],
      "metadata": {
        "id": "yy-9ejTj0DpK"
      },
      "execution_count": null,
      "outputs": []
    },
    {
      "cell_type": "code",
      "source": [
        "import unittest\n",
        "\n",
        "class TestStoreInventory(unittest.TestCase):\n",
        "    def setUp(self):\n",
        "        self.store = Store()\n",
        "        self.product1 = Product('001', 'Widget', 10.0, 100)\n",
        "        self.store.add_product(self.product1)\n",
        "\n",
        "    def test_add_product(self):\n",
        "        self.assertEqual(len(self.store.inventory.products), 1)\n",
        "\n",
        "    def test_process_sale(self):\n",
        "        self.store.process_sale('001', 5)\n",
        "        self.assertEqual(self.product1.quantity, 95)\n",
        "\n",
        "if __name__ == '__main__':\n",
        "    unittest.main()"
      ],
      "metadata": {
        "colab": {
          "base_uri": "https://localhost:8080/",
          "height": 317
        },
        "id": "wftpEn1G0EBR",
        "outputId": "4a1d3de2-b745-411c-e481-d29ec696874d"
      },
      "execution_count": 7,
      "outputs": [
        {
          "output_type": "stream",
          "name": "stderr",
          "text": [
            "E\n",
            "======================================================================\n",
            "ERROR: /root/ (unittest.loader._FailedTest)\n",
            "----------------------------------------------------------------------\n",
            "AttributeError: module '__main__' has no attribute '/root/'\n",
            "\n",
            "----------------------------------------------------------------------\n",
            "Ran 1 test in 0.003s\n",
            "\n",
            "FAILED (errors=1)\n"
          ]
        },
        {
          "output_type": "error",
          "ename": "SystemExit",
          "evalue": "True",
          "traceback": [
            "An exception has occurred, use %tb to see the full traceback.\n",
            "\u001b[0;31mSystemExit\u001b[0m\u001b[0;31m:\u001b[0m True\n"
          ]
        },
        {
          "output_type": "stream",
          "name": "stderr",
          "text": [
            "/usr/local/lib/python3.10/dist-packages/IPython/core/interactiveshell.py:3561: UserWarning: To exit: use 'exit', 'quit', or Ctrl-D.\n",
            "  warn(\"To exit: use 'exit', 'quit', or Ctrl-D.\", stacklevel=1)\n"
          ]
        }
      ]
    }
  ]
}